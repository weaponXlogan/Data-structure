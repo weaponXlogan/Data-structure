{
  "nbformat": 4,
  "nbformat_minor": 0,
  "metadata": {
    "colab": {
      "provenance": []
    },
    "kernelspec": {
      "name": "python3",
      "display_name": "Python 3"
    },
    "language_info": {
      "name": "python"
    }
  },
  "cells": [
    {
      "cell_type": "markdown",
      "source": [
        "#PYTHON - DATA STRUCTURE\n",
        "\n",
        "1.What are data structures, and why are they important?\n",
        " - data structures are the ways to store and organize data in the computer so that it can be efficiently accessed and modified. And they are important for simplified code, improvement of performance, data management, problem solving.\n",
        "\n",
        "2.  Explain the difference between mutable and immutable data types with examples.\n",
        " - Mutable data types can be changed after creation, eg- lists, sets, dictionaries.\n",
        " - and immutable data cannot be changed once they are created, eg- tuples, strings.\n",
        "\n",
        "3. What are the main differences between lists and tuples in Python?\n",
        " - The main difference is that the Lists are mutable because they can be modified or can be change after creation but tuples are immutable because they cannot modified after creation.\n",
        "\n",
        "4. Describe how dictionaries store data.\n",
        " - A dictionaries are also known as hash tables or associative arrays that store data in a key-value pair format.\n",
        "\n",
        "5. Why might you use a set instead of a list in Python?\n",
        " - we user set instead of list in python because sets has faster lookup, efficient removal, improve code readability and reducing memory usage, unintended modifications.\n",
        "\n",
        "6. What is a string in Python, and how is it different from a list?\n",
        " - A string is a sequence of characters enclosed between the single or double quotes. And a list is a sequence of items, where the items can be anything, may be an integer, a float, a string, etc.\n",
        "\n",
        "7. How do tuples ensure data integrity in Python?\n",
        " - Tuple are immutable, once it is created cannot be altered. This makes them suitable for providing dada integrity in python.\n",
        "\n",
        "8. What is a hash table, and how does it relate to dictionaries in Python?\n",
        " - A hash table is a data structure that stores key-value pairs in an array using a hash function to map keys to indices of the array.\n",
        "\n",
        "9. Can lists contain different data types in Python?\n",
        " - yes, lists in python can contain different data types.\n",
        "\n",
        "10.  Explain why strings are immutable in Python.\n",
        " - Strings are immutable in python means that they cannot be changed after creation which provides a more predictable, efficient, and safe programming environment.\n",
        "\n",
        "11. What advantages do dictionaries offer over lists for certain tasks?\n",
        " - The advantages are faster lookup, unique keys, efficient data retrieval, improved code readability, data analysis, etc that offers over lists for certain task.\n",
        "\n",
        "12. Describe a scenario where using a tuple would be preferable over a list.\n",
        " - Scenario: Enhancing data integrity\n",
        "   -> Tuples can help ensure data integrity by preventing accidental modifications to the data.\n",
        "\n",
        "13. How do sets handle duplicate values in Python?\n",
        " - sets automatically handle duplicate values by eliminating them. This means that if we add a duplicate value to a set, it will simply ignored.\n",
        "  eg- my_sets = [a,b,c,c,d,e,f,f]\n",
        "       print(my_set) # output: [a,b,c,d,f]\n",
        "\n",
        "14. How does the “in” keyword work differently for lists and dictionaries?\n",
        " - for lists, the \"in\" keyword checks for membership in the list by iterating over each element and for dictionaries, the \"in\" keyword checks by looking up the key in the dictionary hash table.\n",
        "  \n",
        "15. Can you modify the elements of a tuple? Explain why or why not?\n",
        " - No, we cannot modify the elements of a tuple because tuples are immutable data structures in python, once it created it cannot be modified.\n",
        "\n",
        "16. What is a nested dictionary, and give an example of its use case?\n",
        " - A nested dictionary that contains another dictionary as its value. eg- weather data:\n",
        "  weather_data = {\"temp\":23, \"humidity\":60, \"wind_speed\":20}\n",
        "\n",
        "17.  Describe the time complexity of accessing elements in a dictionary.\n",
        " - Accessing an element in a dictionary by its key is a very fast operation that takes the same amount of time regardless of the number of elements in the dictionary.\n",
        "\n",
        "18. In what situations are lists preferred over dictionaries?\n",
        " - Here are some situations they are -\n",
        "  ordered data, homogeneous data, dynamic size, performance, simplicity general programming.\n",
        "\n",
        "19. Why are dictionaries considered unordered, and how does that affect data retrieval?\n",
        " - Dictionaries are considered unordered because the order in which the order in which key-value pairs are stored and retrieved is not guaranteed. this is because dictionaries use a hash table to store their data, which allows for fast lookups but does not preserve the order of insertion.\n",
        "\n",
        "20. Explain the difference between a list and a dictionary in terms of data retrieval.\n",
        " - list ->\n",
        "  a. indexed retrieval\n",
        "  b. sequential acces\n",
        "  c. fast lookup by index.\n",
        " - dictionary ->\n",
        "  a. key-based retrieva\n",
        "  b. random access\n",
        "  c. fast lookup by key\n",
        "\n",
        "#PRACICAL QUESTIONS\n",
        "\n",
        "\n",
        "\n"
      ],
      "metadata": {
        "id": "GERNST4z2duf"
      }
    },
    {
      "cell_type": "markdown",
      "source": [
        "1. Write a code to create a string with your name and print it."
      ],
      "metadata": {
        "id": "cPQDvTD0n2a_"
      }
    },
    {
      "cell_type": "code",
      "source": [
        "name = \"ankit verma\"\n",
        "print (f\"hello, my name is {name}\")"
      ],
      "metadata": {
        "colab": {
          "base_uri": "https://localhost:8080/"
        },
        "id": "dn1fRaz0n0xP",
        "outputId": "898e35ca-915c-4028-e402-84668cbd3680"
      },
      "execution_count": null,
      "outputs": [
        {
          "output_type": "stream",
          "name": "stdout",
          "text": [
            "hello, my name is ankit verma\n"
          ]
        }
      ]
    },
    {
      "cell_type": "code",
      "source": [],
      "metadata": {
        "id": "-arSfWZCSTib"
      },
      "execution_count": null,
      "outputs": []
    },
    {
      "cell_type": "markdown",
      "source": [
        "2. Write a code to find the length of the string \"Hello World\"."
      ],
      "metadata": {
        "id": "hCoQF_r-pCpy"
      }
    },
    {
      "cell_type": "code",
      "source": [
        "string = \"hello world\"\n",
        "length = len(string)\n",
        "print(\"the length of the string is\", length)"
      ],
      "metadata": {
        "colab": {
          "base_uri": "https://localhost:8080/"
        },
        "id": "665zo4dqqPP7",
        "outputId": "7a4746ea-b7d9-4e58-ceaa-b1d4e464e8ac"
      },
      "execution_count": null,
      "outputs": [
        {
          "output_type": "stream",
          "name": "stdout",
          "text": [
            "the length of the string is 11\n"
          ]
        }
      ]
    },
    {
      "cell_type": "markdown",
      "source": [
        "3. Write a code to slice the first 3 characters from the string \"Python Programming\"."
      ],
      "metadata": {
        "id": "hVataNk_qpWa"
      }
    },
    {
      "cell_type": "code",
      "source": [
        "string = \"python programming\"\n",
        "sliced_string = string[:3]\n",
        "print(sliced_string)"
      ],
      "metadata": {
        "colab": {
          "base_uri": "https://localhost:8080/"
        },
        "id": "x1WyBvEKq9G1",
        "outputId": "7ec4956c-402f-41a2-a101-f69bb2d69cc3"
      },
      "execution_count": null,
      "outputs": [
        {
          "output_type": "stream",
          "name": "stdout",
          "text": [
            "pyt\n"
          ]
        }
      ]
    },
    {
      "cell_type": "markdown",
      "source": [
        "4. Write a code to convert the string \"hello\" to uppercase."
      ],
      "metadata": {
        "id": "1-Klli5zrbgf"
      }
    },
    {
      "cell_type": "code",
      "source": [
        "string = \"hello\"\n",
        "uppercase_string = string.upper()\n",
        "print(uppercase_string)"
      ],
      "metadata": {
        "colab": {
          "base_uri": "https://localhost:8080/"
        },
        "id": "NEBRjiK_rjLu",
        "outputId": "19b97fe7-23f0-41d0-f740-9bcaa76e1e4c"
      },
      "execution_count": null,
      "outputs": [
        {
          "output_type": "stream",
          "name": "stdout",
          "text": [
            "HELLO\n"
          ]
        }
      ]
    },
    {
      "cell_type": "markdown",
      "source": [
        "5. Write a code to replace the word \"apple\" with \"orange\" in the string \"I like apple\"."
      ],
      "metadata": {
        "id": "DCZsg6WzsCVY"
      }
    },
    {
      "cell_type": "code",
      "source": [
        "string = \"i like apple\"\n",
        "replaced_string = string.replace(\"apple\", \"orange\")\n",
        "print(replaced_string)"
      ],
      "metadata": {
        "colab": {
          "base_uri": "https://localhost:8080/"
        },
        "id": "_VGbz51gsJom",
        "outputId": "eed079db-5009-4473-8bfc-59076d0568f5"
      },
      "execution_count": null,
      "outputs": [
        {
          "output_type": "stream",
          "name": "stdout",
          "text": [
            "i like orange\n"
          ]
        }
      ]
    },
    {
      "cell_type": "markdown",
      "source": [
        "6. Write a code to create a list with numbers 1 to 5 and print it."
      ],
      "metadata": {
        "id": "4v5GfbomsjSC"
      }
    },
    {
      "cell_type": "code",
      "source": [
        "num = [1, 2, 3, 4, 5]\n",
        "print(num)"
      ],
      "metadata": {
        "colab": {
          "base_uri": "https://localhost:8080/"
        },
        "id": "WR2HsaAsst5t",
        "outputId": "3b2a20cd-a5f1-477b-de57-7f6f17cbc90a"
      },
      "execution_count": null,
      "outputs": [
        {
          "output_type": "stream",
          "name": "stdout",
          "text": [
            "[1, 2, 3, 4, 5]\n"
          ]
        }
      ]
    },
    {
      "cell_type": "markdown",
      "source": [
        "7. Write a code to append the number 10 to the list [1, 2, 3, 4]."
      ],
      "metadata": {
        "id": "4oGcTuk5tJM0"
      }
    },
    {
      "cell_type": "code",
      "source": [
        "numbers = [1, 2, 3, 4]\n",
        "numbers.append(10)\n",
        "print(numbers)"
      ],
      "metadata": {
        "colab": {
          "base_uri": "https://localhost:8080/"
        },
        "id": "xP7kM4L5tWDJ",
        "outputId": "bd60fb8c-48e5-4fb2-c585-4bd0534d2d54"
      },
      "execution_count": null,
      "outputs": [
        {
          "output_type": "stream",
          "name": "stdout",
          "text": [
            "[1, 2, 3, 4, 10]\n"
          ]
        }
      ]
    },
    {
      "cell_type": "markdown",
      "source": [
        "8. Write a code to remove the number 3 from the list [1, 2, 3, 4, 5]."
      ],
      "metadata": {
        "id": "jWF3Y8VDt7ST"
      }
    },
    {
      "cell_type": "code",
      "source": [
        "numbers = [1, 2, 3, 4, 5]\n",
        "numbers.remove(3)\n",
        "print(numbers)"
      ],
      "metadata": {
        "colab": {
          "base_uri": "https://localhost:8080/"
        },
        "id": "VG01wd0puCt7",
        "outputId": "533dab79-e0a1-4e7e-c8d0-48ae1a987a78"
      },
      "execution_count": null,
      "outputs": [
        {
          "output_type": "stream",
          "name": "stdout",
          "text": [
            "[1, 2, 4, 5]\n"
          ]
        }
      ]
    },
    {
      "cell_type": "markdown",
      "source": [
        "9. Write a code to access the second element in the list ['a', 'b', 'c', 'd']."
      ],
      "metadata": {
        "id": "tfORkJTVuzcm"
      }
    },
    {
      "cell_type": "code",
      "source": [
        "list = [['a', 'b', 'c', 'd']]\n",
        "second_element = list[0] [1]\n",
        "print(second_element)"
      ],
      "metadata": {
        "colab": {
          "base_uri": "https://localhost:8080/"
        },
        "id": "JGBmkRUWu66T",
        "outputId": "fc4bf236-f57e-46c0-8126-a74d958de709"
      },
      "execution_count": null,
      "outputs": [
        {
          "output_type": "stream",
          "name": "stdout",
          "text": [
            "b\n"
          ]
        }
      ]
    },
    {
      "cell_type": "markdown",
      "source": [
        "10. Write a code to reverse the list [10, 20, 30, 40, 50]"
      ],
      "metadata": {
        "id": "ixADBK4iv8YV"
      }
    },
    {
      "cell_type": "code",
      "source": [
        "list = [10, 20, 30, 40, 50]\n",
        "list.reverse()\n",
        "print(list)"
      ],
      "metadata": {
        "colab": {
          "base_uri": "https://localhost:8080/"
        },
        "id": "tCyLY8G7wEI-",
        "outputId": "a69ab021-8736-4395-e821-752b48c6d893"
      },
      "execution_count": null,
      "outputs": [
        {
          "output_type": "stream",
          "name": "stdout",
          "text": [
            "[50, 40, 30, 20, 10]\n"
          ]
        }
      ]
    },
    {
      "cell_type": "markdown",
      "source": [
        "11. Write a code to create a tuple with the elements 10, 20, 30 and print it."
      ],
      "metadata": {
        "id": "u-jro-mYxTtX"
      }
    },
    {
      "cell_type": "code",
      "source": [
        "my_tuple = (10, 20, 30)\n",
        "print(my_tuple)"
      ],
      "metadata": {
        "colab": {
          "base_uri": "https://localhost:8080/"
        },
        "id": "gkGpTtF2xi41",
        "outputId": "7ee01de4-b8d0-4949-e95e-5aee61fe0cf5"
      },
      "execution_count": null,
      "outputs": [
        {
          "output_type": "stream",
          "name": "stdout",
          "text": [
            "(10, 20, 30)\n"
          ]
        }
      ]
    },
    {
      "cell_type": "markdown",
      "source": [
        "12. Write a code to access the first element of the tuple ('apple', 'banana', 'cherry')."
      ],
      "metadata": {
        "id": "ylKuq66Lxrgr"
      }
    },
    {
      "cell_type": "code",
      "source": [
        "my_tuple = ('apple', 'banana', 'cherry')\n",
        "first_element = my_tuple[0]\n",
        "print(first_element)"
      ],
      "metadata": {
        "colab": {
          "base_uri": "https://localhost:8080/"
        },
        "id": "ilLPERoRx1jS",
        "outputId": "bb3eac47-0e4d-4ca2-fb14-3feb7f47693f"
      },
      "execution_count": null,
      "outputs": [
        {
          "output_type": "stream",
          "name": "stdout",
          "text": [
            "apple\n"
          ]
        }
      ]
    },
    {
      "cell_type": "markdown",
      "source": [
        "13.  Write a code to count how many times the number 2 appears in the tuple (1, 2, 3, 2, 4, 2)."
      ],
      "metadata": {
        "id": "LzWi9QsUyEYu"
      }
    },
    {
      "cell_type": "code",
      "source": [
        "numbers = (1, 2, 3, 2, 4, 2)\n",
        "count = numbers.count(2)\n",
        "print(count)"
      ],
      "metadata": {
        "colab": {
          "base_uri": "https://localhost:8080/"
        },
        "id": "TiRie_BfyQl9",
        "outputId": "c0a0bb28-9560-471b-f69c-3415f58d9e52"
      },
      "execution_count": null,
      "outputs": [
        {
          "output_type": "stream",
          "name": "stdout",
          "text": [
            "3\n"
          ]
        }
      ]
    },
    {
      "cell_type": "markdown",
      "source": [
        "14. Write a code to find the index of the element \"cat\" in the tuple ('dog', 'cat', 'rabbit')."
      ],
      "metadata": {
        "id": "Sn-5UCuNy-uK"
      }
    },
    {
      "cell_type": "code",
      "source": [
        "my_tuple = ('dog', 'cat', 'rabbit')\n",
        "index = my_tuple.index('cat')\n",
        "print(index)"
      ],
      "metadata": {
        "colab": {
          "base_uri": "https://localhost:8080/"
        },
        "id": "qJ1DhVfUzIuH",
        "outputId": "9b2c4e04-e94b-451f-f52e-e1fdc8dc7a5b"
      },
      "execution_count": null,
      "outputs": [
        {
          "output_type": "stream",
          "name": "stdout",
          "text": [
            "1\n"
          ]
        }
      ]
    },
    {
      "cell_type": "markdown",
      "source": [
        "15.  Write a code to check if the element \"banana\" is in the tuple ('apple', 'orange', 'banana')."
      ],
      "metadata": {
        "id": "xHkC_QFtzV_5"
      }
    },
    {
      "cell_type": "code",
      "source": [
        "my_tuple = ('apple', 'orange', 'banana')\n",
        "if 'banana' in my_tuple:\n",
        "    print(\"banana is in the tuple\")\n",
        "else:\n",
        "    print(\"banana is not in the tuple\")"
      ],
      "metadata": {
        "colab": {
          "base_uri": "https://localhost:8080/"
        },
        "id": "5ASDuTV8zfZr",
        "outputId": "abdb2c45-7e84-4128-cbe3-bd1fa43121ac"
      },
      "execution_count": null,
      "outputs": [
        {
          "output_type": "stream",
          "name": "stdout",
          "text": [
            "banana is in the tuple\n"
          ]
        }
      ]
    },
    {
      "cell_type": "markdown",
      "source": [
        "16.  Write a code to create a set with the elements 1, 2, 3, 4, 5 and print it"
      ],
      "metadata": {
        "id": "L4sNOorK0Bv3"
      }
    },
    {
      "cell_type": "code",
      "source": [
        "elements = {1, 2, 3, 4, 5}\n",
        "print(elements)"
      ],
      "metadata": {
        "colab": {
          "base_uri": "https://localhost:8080/"
        },
        "id": "witCNfO00Jxu",
        "outputId": "ff657ae8-4b13-46ba-ac3f-2e5d7a92c548"
      },
      "execution_count": null,
      "outputs": [
        {
          "output_type": "stream",
          "name": "stdout",
          "text": [
            "{1, 2, 3, 4, 5}\n"
          ]
        }
      ]
    },
    {
      "cell_type": "markdown",
      "source": [
        "17.  Write a code to add the element 6 to the set {1, 2, 3, 4}."
      ],
      "metadata": {
        "id": "1kyXN0U80ci7"
      }
    },
    {
      "cell_type": "code",
      "source": [
        "my_set = {1, 2, 3, 4}\n",
        "my_set.add(6)\n",
        "print(my_set)"
      ],
      "metadata": {
        "colab": {
          "base_uri": "https://localhost:8080/"
        },
        "id": "35JQNBTi0n77",
        "outputId": "76223280-6e9b-4fb0-be21-3a079ccc5610"
      },
      "execution_count": null,
      "outputs": [
        {
          "output_type": "stream",
          "name": "stdout",
          "text": [
            "{1, 2, 3, 4, 6}\n"
          ]
        }
      ]
    },
    {
      "cell_type": "markdown",
      "source": [
        "18. Write a code to create a tuple with the elements 10, 20, 30 and print it."
      ],
      "metadata": {
        "id": "DRG0jQk90278"
      }
    },
    {
      "cell_type": "code",
      "source": [
        "my_tuple = (10, 20, 30)\n",
        "print(my_tuple)"
      ],
      "metadata": {
        "colab": {
          "base_uri": "https://localhost:8080/"
        },
        "id": "9T1ZLJbG1Aql",
        "outputId": "3bf2d6e1-f4a0-44cb-a439-4dd8b2aa971f"
      },
      "execution_count": null,
      "outputs": [
        {
          "output_type": "stream",
          "name": "stdout",
          "text": [
            "(10, 20, 30)\n"
          ]
        }
      ]
    },
    {
      "cell_type": "markdown",
      "source": [
        "19.  Write a code to access the first element of the tuple ('apple', 'banana', 'cherry')."
      ],
      "metadata": {
        "id": "xgRHeo6E1b6L"
      }
    },
    {
      "cell_type": "code",
      "source": [
        "my_tuple = ('apple', 'banana', 'cherry')\n",
        "first_element = my_tuple[0]\n",
        "print(first_element)"
      ],
      "metadata": {
        "colab": {
          "base_uri": "https://localhost:8080/"
        },
        "id": "ZHuI51iX1vTT",
        "outputId": "25fd34fa-14e7-4f69-f473-7a135f350b2a"
      },
      "execution_count": null,
      "outputs": [
        {
          "output_type": "stream",
          "name": "stdout",
          "text": [
            "apple\n"
          ]
        }
      ]
    },
    {
      "cell_type": "markdown",
      "source": [
        "20.  Write a code to count how many times the number 2 appears in the tuple (1, 2, 3, 2, 4, 2)."
      ],
      "metadata": {
        "id": "Tef1-hom1_rx"
      }
    },
    {
      "cell_type": "code",
      "source": [
        "numbers = (1, 2, 3, 2, 4, 2)\n",
        "count = numbers.count(2)\n",
        "print(count)"
      ],
      "metadata": {
        "colab": {
          "base_uri": "https://localhost:8080/"
        },
        "id": "ORwFLAQ02I7a",
        "outputId": "6389a438-3c81-44d6-807e-57592d8f6021"
      },
      "execution_count": null,
      "outputs": [
        {
          "output_type": "stream",
          "name": "stdout",
          "text": [
            "3\n"
          ]
        }
      ]
    },
    {
      "cell_type": "markdown",
      "source": [
        "21.  Write a code to find the index of the element \"cat\" in the tuple ('dog', 'cat', 'rabbit')."
      ],
      "metadata": {
        "id": "9SREpaeD2VNF"
      }
    },
    {
      "cell_type": "code",
      "source": [
        "my_tuple = ('dog', 'cat', 'rabbit')\n",
        "index = my_tuple.index('cat')\n",
        "print(index)"
      ],
      "metadata": {
        "colab": {
          "base_uri": "https://localhost:8080/"
        },
        "id": "KwsuRCNJ2iiO",
        "outputId": "16204e9a-eacd-45d3-fbcf-ecbc21662748"
      },
      "execution_count": null,
      "outputs": [
        {
          "output_type": "stream",
          "name": "stdout",
          "text": [
            "1\n"
          ]
        }
      ]
    },
    {
      "cell_type": "markdown",
      "source": [
        "22. Write a code to check if the element \"banana\" is in the tuple ('apple', 'orange', 'banana').\n"
      ],
      "metadata": {
        "id": "xv-PewCP2pId"
      }
    },
    {
      "cell_type": "code",
      "source": [
        "my_tuple = ('apple', 'orange', 'banana')\n",
        "if 'banana' in my_tuple:\n",
        "    print(\"banana is in the tuple\")\n",
        "else:\n",
        "    print(\"banana is not in the tuple\")"
      ],
      "metadata": {
        "colab": {
          "base_uri": "https://localhost:8080/"
        },
        "id": "99aGki3o21Fm",
        "outputId": "8f5b4c75-087d-4d6d-843c-18ab22a7f9da"
      },
      "execution_count": null,
      "outputs": [
        {
          "output_type": "stream",
          "name": "stdout",
          "text": [
            "banana is in the tuple\n"
          ]
        }
      ]
    },
    {
      "cell_type": "markdown",
      "source": [
        "23. Write a code to create a set with the elements 1, 2, 3, 4, 5 and print it."
      ],
      "metadata": {
        "id": "TCwapzRZ3AfL"
      }
    },
    {
      "cell_type": "code",
      "source": [
        "elements = {1, 2, 3, 4, 5}\n",
        "print(elements)"
      ],
      "metadata": {
        "colab": {
          "base_uri": "https://localhost:8080/"
        },
        "id": "vrKqCdBe3JBi",
        "outputId": "76d66ada-0387-49e1-9dff-6be83ab7537f"
      },
      "execution_count": null,
      "outputs": [
        {
          "output_type": "stream",
          "name": "stdout",
          "text": [
            "{1, 2, 3, 4, 5}\n"
          ]
        }
      ]
    },
    {
      "cell_type": "markdown",
      "source": [
        "24. Write a code to add the element 6 to the set {1, 2, 3, 4}."
      ],
      "metadata": {
        "id": "-yzUN7ua3Si1"
      }
    },
    {
      "cell_type": "code",
      "source": [
        "my_set = {1, 2, 3, 4}\n",
        "my_set.add(6)\n",
        "print(my_set)"
      ],
      "metadata": {
        "colab": {
          "base_uri": "https://localhost:8080/"
        },
        "id": "1vF-O7CL3Yj4",
        "outputId": "98f0f684-7a62-456e-c7aa-e881267cd38b"
      },
      "execution_count": null,
      "outputs": [
        {
          "output_type": "stream",
          "name": "stdout",
          "text": [
            "{1, 2, 3, 4, 6}\n"
          ]
        }
      ]
    }
  ]
}